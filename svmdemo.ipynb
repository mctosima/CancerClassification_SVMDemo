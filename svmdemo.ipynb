{
 "cells": [
  {
   "cell_type": "markdown",
   "metadata": {},
   "source": [
    "# SVM Demo Cancer Classifier\n",
    "Dataset (c) UCI Machine Learning Repository\n",
    "https://cml.ics.uci.edu/MLRepository.html"
   ]
  },
  {
   "cell_type": "code",
   "execution_count": 1,
   "metadata": {},
   "outputs": [],
   "source": [
    "#import pandas, numpy, and matplotlib\n",
    "import pandas as pd\n",
    "import numpy as np\n",
    "import matplotlib.pyplot as plt"
   ]
  },
  {
   "cell_type": "code",
   "execution_count": 2,
   "metadata": {},
   "outputs": [],
   "source": [
    "#read csv cell_samples.csv\n",
    "cell_df = pd.read_csv('cell_samples.csv')"
   ]
  },
  {
   "cell_type": "code",
   "execution_count": 3,
   "metadata": {},
   "outputs": [],
   "source": [
    "#copy the first 200 row from class 4 to new variable. Give the variable name 'malignant_df'\n",
    "malignant_df = cell_df[cell_df['Class'] == 4]\n",
    "\n",
    "#copy the first 200 row from class benign to new variable. Give the variable name 'benign'\n",
    "benign_df = cell_df[cell_df['Class'] == 2]"
   ]
  },
  {
   "cell_type": "code",
   "execution_count": 4,
   "metadata": {},
   "outputs": [
    {
     "data": {
      "text/plain": [
       "<matplotlib.legend.Legend at 0x7fe2afd1a7d0>"
      ]
     },
     "execution_count": 4,
     "metadata": {},
     "output_type": "execute_result"
    },
    {
     "data": {
      "image/png": "[encoded data removed]",
      "text/plain": [
       "<Figure size 432x288 with 1 Axes>"
      ]
     },
     "metadata": {
      "needs_background": "light"
     },
     "output_type": "display_data"
    }
   ],
   "source": [
    "#plot a scatter plot of benign_df, x = 'Clump', y = 'UnifSize'\n",
    "plt.scatter(benign_df['Clump'], benign_df['UnifSize'], marker='o', c='b')\n",
    "\n",
    "#plot a scatter plot of malignant_df, x = 'Clump', y = 'UnifSize'\n",
    "plt.scatter(malignant_df['Clump'], malignant_df['UnifSize'], marker='o', c='r')\n",
    "\n",
    "#create a legend on the plot\n",
    "plt.legend(['Benign', 'Malignant'])"
   ]
  },
  {
   "cell_type": "code",
   "execution_count": 5,
   "metadata": {},
   "outputs": [
    {
     "data": {
      "text/plain": [
       "ID             int64\n",
       "Clump          int64\n",
       "UnifSize       int64\n",
       "UnifShape      int64\n",
       "MargAdh        int64\n",
       "SingEpiSize    int64\n",
       "BareNuc        int64\n",
       "BlandChrom     int64\n",
       "NormNucl       int64\n",
       "Mit            int64\n",
       "Class          int64\n",
       "dtype: object"
      ]
     },
     "execution_count": 5,
     "metadata": {},
     "output_type": "execute_result"
    }
   ],
   "source": [
    "#convert 'BareNuc' to numeric using pd.to_numeric\n",
    "cell_df = cell_df[pd.to_numeric(cell_df['BareNuc'], errors='coerce').notnull()]\n",
    "#convert 'BareNuc' to integer\n",
    "cell_df['BareNuc'] = cell_df['BareNuc'].astype('int')\n",
    "#datatype of cell_df\n",
    "cell_df.dtypes"
   ]
  },
  {
   "cell_type": "code",
   "execution_count": 6,
   "metadata": {},
   "outputs": [],
   "source": [
    "#show cell_df columns\n",
    "cell_df.columns\n",
    "\n",
    "#create a new array named 'feature_df' from cell_df but without 'ID' and 'Class'\n",
    "feature_df = cell_df[['Clump', 'UnifSize', 'UnifShape', 'MargAdh', 'SingEpiSize', 'BareNuc', 'BlandChrom', 'NormNucl', 'Mit']]\n",
    "\n",
    "#show feature_df columns\n",
    "feature_df.columns\n",
    "\n",
    "# create new numpy array 'x' from feature_df\n",
    "x = np.asarray(feature_df)\n",
    "\n",
    "#move 'Class' column from cell_df to new variable 'y'\n",
    "y = np.asarray(cell_df['Class'])"
   ]
  },
  {
   "cell_type": "code",
   "execution_count": 7,
   "metadata": {},
   "outputs": [
    {
     "name": "stdout",
     "output_type": "stream",
     "text": [
      "(546, 9) (137, 9) (546,) (137,)\n"
     ]
    }
   ],
   "source": [
    "'''\n",
    "Split 'cell_df' into training and test sets\n",
    "Train (X,y) with 80% of the data\n",
    "Test (X,y) with 20% of the data\n",
    "'''\n",
    "\n",
    "#import train_test_split\n",
    "from sklearn.model_selection import train_test_split\n",
    "\n",
    "#split 'cell_df' into training and test sets\n",
    "X_train, X_test, y_train, y_test = train_test_split(x, y, test_size=0.2, random_state=4)\n",
    "\n",
    "#check all shapes of X_train, X_test, y_train, y_test\n",
    "print(X_train.shape, X_test.shape, y_train.shape, y_test.shape)"
   ]
  },
  {
   "cell_type": "code",
   "execution_count": 8,
   "metadata": {},
   "outputs": [],
   "source": [
    "#import svm\n",
    "from sklearn import svm\n",
    "\n",
    "#create a svm classifier, kernel = linear; gamma = auto; c= 2\n",
    "clf = svm.SVC(kernel='linear', gamma='auto', C=2)\n",
    "\n",
    "#fit the classifier to the training data\n",
    "clf.fit(X_train, y_train)\n",
    "\n",
    "#predict the labels of the test data\n",
    "y_pred = clf.predict(X_test)"
   ]
  },
  {
   "cell_type": "code",
   "execution_count": 10,
   "metadata": {},
   "outputs": [
    {
     "name": "stdout",
     "output_type": "stream",
     "text": [
      "              precision    recall  f1-score   support\n",
      "\n",
      "           2       1.00      0.94      0.97        90\n",
      "           4       0.90      1.00      0.95        47\n",
      "\n",
      "    accuracy                           0.96       137\n",
      "   macro avg       0.95      0.97      0.96       137\n",
      "weighted avg       0.97      0.96      0.96       137\n",
      "\n"
     ]
    },
    {
     "data": {
      "image/png": "[encoded data removed]",
      "text/plain": [
       "<Figure size 432x288 with 1 Axes>"
      ]
     },
     "metadata": {
      "needs_background": "light"
     },
     "output_type": "display_data"
    }
   ],
   "source": [
    "#import classification_report\n",
    "from sklearn.metrics import classification_report\n",
    "\n",
    "#print the classification report\n",
    "print(classification_report(y_test, y_pred))\n",
    "\n",
    "#plot the classifier line among all dataset\n",
    "plt.scatter(X_train[:, 1], clf.decision_function(X_train), c='k', marker='o', s=100, label='Train')\n",
    "plt.scatter(X_test[:, 1], clf.decision_function(X_test), c='g', marker='o', s=100, label='Test')\n",
    "plt.xlabel('Uniformity of Cell Size')\n",
    "plt.legend()\n",
    "plt.show()\n"
   ]
  }
 ],
 "metadata": {
  "interpreter": {
   "hash": "40d3a090f54c6569ab1632332b64b2c03c39dcf918b08424e98f38b5ae0af88f"
  },
  "kernelspec": {
   "display_name": "Python 3.8.8 64-bit ('base': conda)",
   "language": "python",
   "name": "python3"
  },
  "language_info": {
   "codemirror_mode": {
    "name": "ipython",
    "version": 3
   },
   "file_extension": ".py",
   "mimetype": "text/x-python",
   "name": "python",
   "nbconvert_exporter": "python",
   "pygments_lexer": "ipython3",
   "version": "3.7.11"
  },
  "orig_nbformat": 4
 },
 "nbformat": 4,
 "nbformat_minor": 2
}
